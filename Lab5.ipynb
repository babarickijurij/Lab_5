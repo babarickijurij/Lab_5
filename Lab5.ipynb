{
 "cells": [
  {
   "cell_type": "code",
   "execution_count": 2,
   "id": "8e240a1e",
   "metadata": {},
   "outputs": [
    {
     "data": {
      "text/plain": [
       "5"
      ]
     },
     "execution_count": 2,
     "metadata": {},
     "output_type": "execute_result"
    }
   ],
   "source": [
    "N = ord(\"Y\") % 5 + 1\n",
    "N"
   ]
  },
  {
   "cell_type": "code",
   "execution_count": 7,
   "id": "3e58174d",
   "metadata": {},
   "outputs": [
    {
     "data": {
      "text/html": [
       "<div>\n",
       "<style scoped>\n",
       "    .dataframe tbody tr th:only-of-type {\n",
       "        vertical-align: middle;\n",
       "    }\n",
       "\n",
       "    .dataframe tbody tr th {\n",
       "        vertical-align: top;\n",
       "    }\n",
       "\n",
       "    .dataframe thead th {\n",
       "        text-align: right;\n",
       "    }\n",
       "</style>\n",
       "<table border=\"1\" class=\"dataframe\">\n",
       "  <thead>\n",
       "    <tr style=\"text-align: right;\">\n",
       "      <th></th>\n",
       "      <th>N</th>\n",
       "      <th>file name</th>\n",
       "      <th>image size</th>\n",
       "      <th>glasses color</th>\n",
       "      <th>line width</th>\n",
       "    </tr>\n",
       "  </thead>\n",
       "  <tbody>\n",
       "    <tr>\n",
       "      <th>0</th>\n",
       "      <td>1</td>\n",
       "      <td>emma-watson2.jpg</td>\n",
       "      <td>300x300</td>\n",
       "      <td>red</td>\n",
       "      <td>2</td>\n",
       "    </tr>\n",
       "    <tr>\n",
       "      <th>1</th>\n",
       "      <td>2</td>\n",
       "      <td>emma-watson.jpg</td>\n",
       "      <td>400x400</td>\n",
       "      <td>blue</td>\n",
       "      <td>3</td>\n",
       "    </tr>\n",
       "    <tr>\n",
       "      <th>2</th>\n",
       "      <td>3</td>\n",
       "      <td>draco.jpg</td>\n",
       "      <td>700x700</td>\n",
       "      <td>cian</td>\n",
       "      <td>4</td>\n",
       "    </tr>\n",
       "    <tr>\n",
       "      <th>3</th>\n",
       "      <td>4</td>\n",
       "      <td>longbottom.jpg</td>\n",
       "      <td>600x600</td>\n",
       "      <td>magenta</td>\n",
       "      <td>5</td>\n",
       "    </tr>\n",
       "    <tr>\n",
       "      <th>4</th>\n",
       "      <td>5</td>\n",
       "      <td>ron_wesley.jpg</td>\n",
       "      <td>500x500</td>\n",
       "      <td>yellow</td>\n",
       "      <td>6</td>\n",
       "    </tr>\n",
       "  </tbody>\n",
       "</table>\n",
       "</div>"
      ],
      "text/plain": [
       "   N         file name image size glasses color  line width\n",
       "0  1  emma-watson2.jpg    300x300           red           2\n",
       "1  2   emma-watson.jpg    400x400          blue           3\n",
       "2  3         draco.jpg    700x700          cian           4\n",
       "3  4    longbottom.jpg    600x600       magenta           5\n",
       "4  5    ron_wesley.jpg    500x500        yellow           6"
      ]
     },
     "execution_count": 7,
     "metadata": {},
     "output_type": "execute_result"
    }
   ],
   "source": [
    "import pandas as pd\n",
    "\n",
    "file_path = 'lab6.xlsx' \n",
    "data = pd.read_excel(file_path)\n",
    "\n",
    "data.head()"
   ]
  },
  {
   "cell_type": "code",
   "execution_count": null,
   "id": "0bd4433b",
   "metadata": {},
   "outputs": [],
   "source": []
  },
  {
   "cell_type": "code",
   "execution_count": 10,
   "id": "2a944d69",
   "metadata": {},
   "outputs": [],
   "source": [
    "import cv2\n",
    "from PIL import Image, ImageDraw\n",
    "\n",
    "face_cascade = cv2.CascadeClassifier(cv2.data.haarcascades + 'haarcascade_frontalface_default.xml')\n",
    "eye_cascade = cv2.CascadeClassifier(cv2.data.haarcascades + 'haarcascade_eye.xml')\n",
    "\n",
    "def process_image(image_path, output_path, glasses_color, line_width):\n",
    "    img = cv2.imread(image_path)\n",
    "    gray = cv2.cvtColor(img, cv2.COLOR_BGR2GRAY)\n",
    "    \n",
    "    faces = face_cascade.detectMultiScale(gray, scaleFactor=1.3, minNeighbors=4)\n",
    "\n",
    "    pil_img = Image.open(image_path)\n",
    "    draw = ImageDraw.Draw(pil_img)\n",
    "\n",
    "    for (x, y, w, h) in faces:\n",
    "        face_roi = gray[y:y + h, x:x + w]\n",
    "\n",
    "        eyes = eye_cascade.detectMultiScale(face_roi, scaleFactor=1.1, minNeighbors=5, minSize=(30, 30))\n",
    "        if len(eyes) < 2:\n",
    "            continue\n",
    "        \n",
    "        eyes = sorted(eyes, key=lambda ex: ex[0])[:2]\n",
    "        if abs(eyes[0][1] - eyes[1][1]) > 20:\n",
    "            continue\n",
    "\n",
    "        left_eye = (x + eyes[0][0] + eyes[0][2] // 2, y + eyes[0][1] + eyes[0][3] // 2)\n",
    "        right_eye = (x + eyes[1][0] + eyes[1][2] // 2, y + eyes[1][1] + eyes[1][3] // 2)\n",
    "\n",
    "        radius = (right_eye[0] - left_eye[0]) // 3\n",
    "        \n",
    "        draw.ellipse((left_eye[0] - radius, left_eye[1] - radius, left_eye[0] + radius, left_eye[1] + radius),\n",
    "                     outline=glasses_color, width=line_width)\n",
    "        draw.ellipse((right_eye[0] - radius, right_eye[1] - radius, right_eye[0] + radius, right_eye[1] + radius),\n",
    "                     outline=glasses_color, width=line_width)\n",
    "        \n",
    "        draw.line((left_eye[0] + radius, left_eye[1], right_eye[0] - radius, right_eye[1]), \n",
    "                  fill=glasses_color, width=line_width)\n",
    "\n",
    "        draw.line((left_eye[0] - radius, left_eye[1], left_eye[0] - radius - 50, left_eye[1]), \n",
    "                  fill=glasses_color, width=line_width)\n",
    "        draw.line((right_eye[0] + radius, right_eye[1], right_eye[0] + radius + 50, right_eye[1]), \n",
    "                  fill=glasses_color, width=line_width)\n",
    "\n",
    "    pil_img.thumbnail((500, 500), Image.Resampling.LANCZOS)\n",
    "    \n",
    "    pil_img.save(output_path)"
   ]
  },
  {
   "cell_type": "code",
   "execution_count": 11,
   "id": "abe0b0ec",
   "metadata": {},
   "outputs": [],
   "source": [
    "process_image(\"Images/ron_wesley.jpg\", \"ron_wesley_output.jpg\", glasses_color=\"yellow\", line_width=6)"
   ]
  },
  {
   "cell_type": "code",
   "execution_count": null,
   "id": "0316ed96",
   "metadata": {},
   "outputs": [],
   "source": []
  }
 ],
 "metadata": {
  "kernelspec": {
   "display_name": "Python 3 (ipykernel)",
   "language": "python",
   "name": "python3"
  },
  "language_info": {
   "codemirror_mode": {
    "name": "ipython",
    "version": 3
   },
   "file_extension": ".py",
   "mimetype": "text/x-python",
   "name": "python",
   "nbconvert_exporter": "python",
   "pygments_lexer": "ipython3",
   "version": "3.11.5"
  }
 },
 "nbformat": 4,
 "nbformat_minor": 5
}
